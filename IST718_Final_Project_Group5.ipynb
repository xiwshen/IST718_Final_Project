{
  "nbformat": 4,
  "nbformat_minor": 0,
  "metadata": {
    "colab": {
      "name": "IST718_Final_Project_Group5.ipynb",
      "provenance": [],
      "collapsed_sections": []
    },
    "kernelspec": {
      "name": "python3",
      "display_name": "Python 3"
    }
  },
  "cells": [
    {
      "cell_type": "code",
      "metadata": {
        "colab": {
          "base_uri": "https://localhost:8080/"
        },
        "id": "dGbgBnTweRCw",
        "outputId": "048bca44-a6a4-4768-ef70-1bd82129f1df"
      },
      "source": [
        "%%bash\n",
        "# Do not change or modify this file\n",
        "# Need to install pyspark\n",
        "# if pyspark is already installed, will print a message indicating pyspark already isntalled\n",
        "pip install pyspark"
      ],
      "execution_count": 1,
      "outputs": [
        {
          "output_type": "stream",
          "text": [
            "Collecting pyspark\n",
            "  Downloading https://files.pythonhosted.org/packages/f0/26/198fc8c0b98580f617cb03cb298c6056587b8f0447e20fa40c5b634ced77/pyspark-3.0.1.tar.gz (204.2MB)\n",
            "Collecting py4j==0.10.9\n",
            "  Downloading https://files.pythonhosted.org/packages/9e/b6/6a4fb90cd235dc8e265a6a2067f2a2c99f0d91787f06aca4bcf7c23f3f80/py4j-0.10.9-py2.py3-none-any.whl (198kB)\n",
            "Building wheels for collected packages: pyspark\n",
            "  Building wheel for pyspark (setup.py): started\n",
            "  Building wheel for pyspark (setup.py): finished with status 'done'\n",
            "  Created wheel for pyspark: filename=pyspark-3.0.1-py2.py3-none-any.whl size=204612243 sha256=b9e94da9aba5fa03657a202b3a4316ca5dc377c342aeb4cda79c02477d633637\n",
            "  Stored in directory: /root/.cache/pip/wheels/5e/bd/07/031766ca628adec8435bb40f0bd83bb676ce65ff4007f8e73f\n",
            "Successfully built pyspark\n",
            "Installing collected packages: py4j, pyspark\n",
            "Successfully installed py4j-0.10.9 pyspark-3.0.1\n"
          ],
          "name": "stdout"
        }
      ]
    },
    {
      "cell_type": "code",
      "metadata": {
        "colab": {
          "base_uri": "https://localhost:8080/"
        },
        "id": "QnLamh950yyu",
        "outputId": "b706f1b4-2531-4f6e-b0ad-ccdcae607295"
      },
      "source": [
        "#install needed package for this project\n",
        "!pip install imblearn"
      ],
      "execution_count": 2,
      "outputs": [
        {
          "output_type": "stream",
          "text": [
            "Requirement already satisfied: imblearn in /usr/local/lib/python3.6/dist-packages (0.0)\n",
            "Requirement already satisfied: imbalanced-learn in /usr/local/lib/python3.6/dist-packages (from imblearn) (0.4.3)\n",
            "Requirement already satisfied: numpy>=1.8.2 in /usr/local/lib/python3.6/dist-packages (from imbalanced-learn->imblearn) (1.18.5)\n",
            "Requirement already satisfied: scipy>=0.13.3 in /usr/local/lib/python3.6/dist-packages (from imbalanced-learn->imblearn) (1.4.1)\n",
            "Requirement already satisfied: scikit-learn>=0.20 in /usr/local/lib/python3.6/dist-packages (from imbalanced-learn->imblearn) (0.22.2.post1)\n",
            "Requirement already satisfied: joblib>=0.11 in /usr/local/lib/python3.6/dist-packages (from scikit-learn>=0.20->imbalanced-learn->imblearn) (0.17.0)\n"
          ],
          "name": "stdout"
        }
      ]
    },
    {
      "cell_type": "code",
      "metadata": {
        "colab": {
          "base_uri": "https://localhost:8080/"
        },
        "id": "uZfGomoINFGh",
        "outputId": "c13510b3-5a2e-45f1-d3e0-063b4f5266d1"
      },
      "source": [
        "!pip install dtreeviz"
      ],
      "execution_count": 3,
      "outputs": [
        {
          "output_type": "stream",
          "text": [
            "Collecting dtreeviz\n",
            "\u001b[?25l  Downloading https://files.pythonhosted.org/packages/31/57/37124098be67a2edf55c909c77b634d1723abecb54b8ded3e7b3b02af384/dtreeviz-1.1.3.tar.gz (49kB)\n",
            "\r\u001b[K     |██████▊                         | 10kB 19.5MB/s eta 0:00:01\r\u001b[K     |█████████████▍                  | 20kB 26.1MB/s eta 0:00:01\r\u001b[K     |████████████████████            | 30kB 14.5MB/s eta 0:00:01\r\u001b[K     |██████████████████████████▊     | 40kB 15.1MB/s eta 0:00:01\r\u001b[K     |████████████████████████████████| 51kB 4.7MB/s \n",
            "\u001b[?25hRequirement already satisfied: graphviz>=0.9 in /usr/local/lib/python3.6/dist-packages (from dtreeviz) (0.10.1)\n",
            "Requirement already satisfied: pandas in /usr/local/lib/python3.6/dist-packages (from dtreeviz) (1.1.4)\n",
            "Requirement already satisfied: numpy in /usr/local/lib/python3.6/dist-packages (from dtreeviz) (1.18.5)\n",
            "Requirement already satisfied: scikit-learn in /usr/local/lib/python3.6/dist-packages (from dtreeviz) (0.22.2.post1)\n",
            "Requirement already satisfied: matplotlib in /usr/local/lib/python3.6/dist-packages (from dtreeviz) (3.2.2)\n",
            "Collecting colour\n",
            "  Downloading https://files.pythonhosted.org/packages/74/46/e81907704ab203206769dee1385dc77e1407576ff8f50a0681d0a6b541be/colour-0.1.5-py2.py3-none-any.whl\n",
            "Requirement already satisfied: xgboost in /usr/local/lib/python3.6/dist-packages (from dtreeviz) (0.90)\n",
            "Requirement already satisfied: pytest in /usr/local/lib/python3.6/dist-packages (from dtreeviz) (3.6.4)\n",
            "Requirement already satisfied: pyspark in /usr/local/lib/python3.6/dist-packages (from dtreeviz) (3.0.1)\n",
            "Requirement already satisfied: python-dateutil>=2.7.3 in /usr/local/lib/python3.6/dist-packages (from pandas->dtreeviz) (2.8.1)\n",
            "Requirement already satisfied: pytz>=2017.2 in /usr/local/lib/python3.6/dist-packages (from pandas->dtreeviz) (2018.9)\n",
            "Requirement already satisfied: joblib>=0.11 in /usr/local/lib/python3.6/dist-packages (from scikit-learn->dtreeviz) (0.17.0)\n",
            "Requirement already satisfied: scipy>=0.17.0 in /usr/local/lib/python3.6/dist-packages (from scikit-learn->dtreeviz) (1.4.1)\n",
            "Requirement already satisfied: kiwisolver>=1.0.1 in /usr/local/lib/python3.6/dist-packages (from matplotlib->dtreeviz) (1.3.1)\n",
            "Requirement already satisfied: cycler>=0.10 in /usr/local/lib/python3.6/dist-packages (from matplotlib->dtreeviz) (0.10.0)\n",
            "Requirement already satisfied: pyparsing!=2.0.4,!=2.1.2,!=2.1.6,>=2.0.1 in /usr/local/lib/python3.6/dist-packages (from matplotlib->dtreeviz) (2.4.7)\n",
            "Requirement already satisfied: atomicwrites>=1.0 in /usr/local/lib/python3.6/dist-packages (from pytest->dtreeviz) (1.4.0)\n",
            "Requirement already satisfied: pluggy<0.8,>=0.5 in /usr/local/lib/python3.6/dist-packages (from pytest->dtreeviz) (0.7.1)\n",
            "Requirement already satisfied: attrs>=17.4.0 in /usr/local/lib/python3.6/dist-packages (from pytest->dtreeviz) (20.3.0)\n",
            "Requirement already satisfied: more-itertools>=4.0.0 in /usr/local/lib/python3.6/dist-packages (from pytest->dtreeviz) (8.6.0)\n",
            "Requirement already satisfied: py>=1.5.0 in /usr/local/lib/python3.6/dist-packages (from pytest->dtreeviz) (1.9.0)\n",
            "Requirement already satisfied: setuptools in /usr/local/lib/python3.6/dist-packages (from pytest->dtreeviz) (50.3.2)\n",
            "Requirement already satisfied: six>=1.10.0 in /usr/local/lib/python3.6/dist-packages (from pytest->dtreeviz) (1.15.0)\n",
            "Requirement already satisfied: py4j==0.10.9 in /usr/local/lib/python3.6/dist-packages (from pyspark->dtreeviz) (0.10.9)\n",
            "Building wheels for collected packages: dtreeviz\n",
            "  Building wheel for dtreeviz (setup.py) ... \u001b[?25l\u001b[?25hdone\n",
            "  Created wheel for dtreeviz: filename=dtreeviz-1.1.3-cp36-none-any.whl size=52494 sha256=157a8e80170e9573e733dba9580698f5ed65f68d00e31a2151978dcc05d6a5b8\n",
            "  Stored in directory: /root/.cache/pip/wheels/80/a9/1e/4751fda06e88399ee09410646e9d55c88787276f9537b8ebd0\n",
            "Successfully built dtreeviz\n",
            "Installing collected packages: colour, dtreeviz\n",
            "Successfully installed colour-0.1.5 dtreeviz-1.1.3\n"
          ],
          "name": "stdout"
        }
      ]
    },
    {
      "cell_type": "code",
      "metadata": {
        "colab": {
          "base_uri": "https://localhost:8080/"
        },
        "id": "j10XQWaeesh_",
        "outputId": "131cdbdc-41e3-4e41-c9f6-937ac443301e"
      },
      "source": [
        "import pandas as pd\n",
        "import numpy as np\n",
        "from pyspark.sql import SparkSession\n",
        "from pyspark.sql import SQLContext\n",
        "MAX_MEMORY = \"12g\"\n",
        "spark = SparkSession \\\n",
        "  .builder \\\n",
        "  .master(\"local[*]\")\\\n",
        "  .config(\"spark.memory.fraction\", 0.8) \\\n",
        "  .config(\"spark.executor.memory\", MAX_MEMORY) \\\n",
        "  .config(\"spark.driver.memory\", MAX_MEMORY)\\\n",
        "  .config(\"spark.memory.offHeap.enabled\",'true')\\\n",
        "  .config(\"spark.memory.offHeap.size\",MAX_MEMORY)\\\n",
        "  .getOrCreate()\n",
        "sc = spark.sparkContext\n",
        "sqlContext = SQLContext(sc)\n",
        "\n",
        "from pyspark.ml import feature, regression, evaluation, Pipeline\n",
        "from pyspark.sql import functions as fn, Row\n",
        "import matplotlib.pyplot as plt\n",
        "from pyspark.ml.feature import OneHotEncoder, StringIndexer\n",
        "from pyspark.ml.feature import StringIndexerModel\n",
        "from pyspark.ml.classification import LogisticRegression\n",
        "from pyspark.ml.evaluation import BinaryClassificationEvaluator\n",
        "from pyspark.ml.classification import DecisionTreeClassifier\n",
        "from pyspark.ml.classification import RandomForestClassifier\n",
        "from pyspark.ml.classification import GBTClassifier\n",
        "from pyspark.ml.tuning import CrossValidator, ParamGridBuilder\n",
        "from pyspark.mllib.evaluation import BinaryClassificationMetrics\n",
        "\n",
        "import matplotlib.pyplot as plt\n",
        "import seaborn as sns\n",
        "from sklearn.metrics import precision_score, recall_score\n",
        "from sklearn.metrics import classification_report\n",
        "from sklearn.model_selection import train_test_split\n",
        "from imblearn.over_sampling import RandomOverSampler, SMOTE, ADASYN\n",
        "from collections import Counter\n",
        "from imblearn.under_sampling import RandomUnderSampler\n",
        "from dtreeviz.models.spark_decision_tree import ShadowSparkTree\n",
        "from dtreeviz import trees"
      ],
      "execution_count": 4,
      "outputs": [
        {
          "output_type": "stream",
          "text": [
            "/usr/local/lib/python3.6/dist-packages/sklearn/externals/six.py:31: FutureWarning: The module is deprecated in version 0.21 and will be removed in version 0.23 since we've dropped support for Python 2.7. Please rely on the official version of six (https://pypi.org/project/six/).\n",
            "  \"(https://pypi.org/project/six/).\", FutureWarning)\n",
            "/usr/local/lib/python3.6/dist-packages/sklearn/utils/deprecation.py:144: FutureWarning: The sklearn.neighbors.base module is  deprecated in version 0.22 and will be removed in version 0.24. The corresponding classes / functions should instead be imported from sklearn.neighbors. Anything that cannot be imported from sklearn.neighbors is now part of the private API.\n",
            "  warnings.warn(message, FutureWarning)\n"
          ],
          "name": "stderr"
        }
      ]
    },
    {
      "cell_type": "code",
      "metadata": {
        "id": "2--jfpl3ewZl"
      },
      "source": [
        "# All data files shall be located in the following directory on \n",
        "# your google drive: /content/drive/My Drive/ist718_data/data_groupN\n",
        "\n",
        "# The following provides 2 example file names and their full path names.  This example assumes the assigned\n",
        "# group name is group12.  The definitions in this cell must be used to load all data files.\n",
        "# This is only an example, change these definitions to match your file names.\n",
        "train_csv = '/content/drive/My Drive/ist718_data/data_group5/train.csv'"
      ],
      "execution_count": 5,
      "outputs": []
    },
    {
      "cell_type": "code",
      "metadata": {
        "colab": {
          "base_uri": "https://localhost:8080/"
        },
        "id": "6sSPaDMwezVM",
        "outputId": "01421f6f-c587-43cb-a5ba-3610f1aaea93"
      },
      "source": [
        "# The third code cell of your notebook must contain code to mount your google drive and load the data files\n",
        "from google.colab import drive\n",
        "drive.mount('/content/drive')\n",
        "\n",
        "# You must use the definitions above to load your data.\n",
        "data_df = pd.read_csv(train_csv)"
      ],
      "execution_count": 6,
      "outputs": [
        {
          "output_type": "stream",
          "text": [
            "Mounted at /content/drive\n"
          ],
          "name": "stdout"
        }
      ]
    },
    {
      "cell_type": "code",
      "metadata": {
        "id": "kIJE90se1GFI"
      },
      "source": [
        "enable_grid_search = False"
      ],
      "execution_count": 7,
      "outputs": []
    },
    {
      "cell_type": "markdown",
      "metadata": {
        "id": "xjUI2mP68LOy"
      },
      "source": [
        "### EDA & Data Visualization"
      ]
    },
    {
      "cell_type": "code",
      "metadata": {
        "id": "DAMAi8-A8iES"
      },
      "source": [
        "#use pandas dataframe to do visualization\n",
        "train = data_df"
      ],
      "execution_count": 8,
      "outputs": []
    },
    {
      "cell_type": "code",
      "metadata": {
        "id": "KdBu0lMs876o",
        "colab": {
          "base_uri": "https://localhost:8080/"
        },
        "outputId": "a869fc78-abd8-4377-97b6-ecc91dbb2cd9"
      },
      "source": [
        "#check for dataset dimension\n",
        "train.shape"
      ],
      "execution_count": 9,
      "outputs": [
        {
          "output_type": "execute_result",
          "data": {
            "text/plain": [
              "(381109, 12)"
            ]
          },
          "metadata": {
            "tags": []
          },
          "execution_count": 9
        }
      ]
    },
    {
      "cell_type": "code",
      "metadata": {
        "id": "nvU4g3eu89Gz",
        "colab": {
          "base_uri": "https://localhost:8080/"
        },
        "outputId": "0eadb646-943d-409d-a0bb-9cb8cc6e3303"
      },
      "source": [
        "#check for missing values\n",
        "train.isnull().sum()"
      ],
      "execution_count": 10,
      "outputs": [
        {
          "output_type": "execute_result",
          "data": {
            "text/plain": [
              "id                      0\n",
              "Gender                  0\n",
              "Age                     0\n",
              "Driving_License         0\n",
              "Region_Code             0\n",
              "Previously_Insured      0\n",
              "Vehicle_Age             0\n",
              "Vehicle_Damage          0\n",
              "Annual_Premium          0\n",
              "Policy_Sales_Channel    0\n",
              "Vintage                 0\n",
              "Response                0\n",
              "dtype: int64"
            ]
          },
          "metadata": {
            "tags": []
          },
          "execution_count": 10
        }
      ]
    },
    {
      "cell_type": "code",
      "metadata": {
        "id": "hOejd33Q9H6i",
        "colab": {
          "base_uri": "https://localhost:8080/",
          "height": 297
        },
        "outputId": "5567d7ed-f97f-40e8-9c26-1941cfb56b6e"
      },
      "source": [
        "#check for descriptive stats\n",
        "train.describe()"
      ],
      "execution_count": 11,
      "outputs": [
        {
          "output_type": "execute_result",
          "data": {
            "text/html": [
              "<div>\n",
              "<style scoped>\n",
              "    .dataframe tbody tr th:only-of-type {\n",
              "        vertical-align: middle;\n",
              "    }\n",
              "\n",
              "    .dataframe tbody tr th {\n",
              "        vertical-align: top;\n",
              "    }\n",
              "\n",
              "    .dataframe thead th {\n",
              "        text-align: right;\n",
              "    }\n",
              "</style>\n",
              "<table border=\"1\" class=\"dataframe\">\n",
              "  <thead>\n",
              "    <tr style=\"text-align: right;\">\n",
              "      <th></th>\n",
              "      <th>id</th>\n",
              "      <th>Age</th>\n",
              "      <th>Driving_License</th>\n",
              "      <th>Region_Code</th>\n",
              "      <th>Previously_Insured</th>\n",
              "      <th>Annual_Premium</th>\n",
              "      <th>Policy_Sales_Channel</th>\n",
              "      <th>Vintage</th>\n",
              "      <th>Response</th>\n",
              "    </tr>\n",
              "  </thead>\n",
              "  <tbody>\n",
              "    <tr>\n",
              "      <th>count</th>\n",
              "      <td>381109.000000</td>\n",
              "      <td>381109.000000</td>\n",
              "      <td>381109.000000</td>\n",
              "      <td>381109.000000</td>\n",
              "      <td>381109.000000</td>\n",
              "      <td>381109.000000</td>\n",
              "      <td>381109.000000</td>\n",
              "      <td>381109.000000</td>\n",
              "      <td>381109.000000</td>\n",
              "    </tr>\n",
              "    <tr>\n",
              "      <th>mean</th>\n",
              "      <td>190555.000000</td>\n",
              "      <td>38.822584</td>\n",
              "      <td>0.997869</td>\n",
              "      <td>26.388807</td>\n",
              "      <td>0.458210</td>\n",
              "      <td>30564.389581</td>\n",
              "      <td>112.034295</td>\n",
              "      <td>154.347397</td>\n",
              "      <td>0.122563</td>\n",
              "    </tr>\n",
              "    <tr>\n",
              "      <th>std</th>\n",
              "      <td>110016.836208</td>\n",
              "      <td>15.511611</td>\n",
              "      <td>0.046110</td>\n",
              "      <td>13.229888</td>\n",
              "      <td>0.498251</td>\n",
              "      <td>17213.155057</td>\n",
              "      <td>54.203995</td>\n",
              "      <td>83.671304</td>\n",
              "      <td>0.327936</td>\n",
              "    </tr>\n",
              "    <tr>\n",
              "      <th>min</th>\n",
              "      <td>1.000000</td>\n",
              "      <td>20.000000</td>\n",
              "      <td>0.000000</td>\n",
              "      <td>0.000000</td>\n",
              "      <td>0.000000</td>\n",
              "      <td>2630.000000</td>\n",
              "      <td>1.000000</td>\n",
              "      <td>10.000000</td>\n",
              "      <td>0.000000</td>\n",
              "    </tr>\n",
              "    <tr>\n",
              "      <th>25%</th>\n",
              "      <td>95278.000000</td>\n",
              "      <td>25.000000</td>\n",
              "      <td>1.000000</td>\n",
              "      <td>15.000000</td>\n",
              "      <td>0.000000</td>\n",
              "      <td>24405.000000</td>\n",
              "      <td>29.000000</td>\n",
              "      <td>82.000000</td>\n",
              "      <td>0.000000</td>\n",
              "    </tr>\n",
              "    <tr>\n",
              "      <th>50%</th>\n",
              "      <td>190555.000000</td>\n",
              "      <td>36.000000</td>\n",
              "      <td>1.000000</td>\n",
              "      <td>28.000000</td>\n",
              "      <td>0.000000</td>\n",
              "      <td>31669.000000</td>\n",
              "      <td>133.000000</td>\n",
              "      <td>154.000000</td>\n",
              "      <td>0.000000</td>\n",
              "    </tr>\n",
              "    <tr>\n",
              "      <th>75%</th>\n",
              "      <td>285832.000000</td>\n",
              "      <td>49.000000</td>\n",
              "      <td>1.000000</td>\n",
              "      <td>35.000000</td>\n",
              "      <td>1.000000</td>\n",
              "      <td>39400.000000</td>\n",
              "      <td>152.000000</td>\n",
              "      <td>227.000000</td>\n",
              "      <td>0.000000</td>\n",
              "    </tr>\n",
              "    <tr>\n",
              "      <th>max</th>\n",
              "      <td>381109.000000</td>\n",
              "      <td>85.000000</td>\n",
              "      <td>1.000000</td>\n",
              "      <td>52.000000</td>\n",
              "      <td>1.000000</td>\n",
              "      <td>540165.000000</td>\n",
              "      <td>163.000000</td>\n",
              "      <td>299.000000</td>\n",
              "      <td>1.000000</td>\n",
              "    </tr>\n",
              "  </tbody>\n",
              "</table>\n",
              "</div>"
            ],
            "text/plain": [
              "                  id            Age  ...        Vintage       Response\n",
              "count  381109.000000  381109.000000  ...  381109.000000  381109.000000\n",
              "mean   190555.000000      38.822584  ...     154.347397       0.122563\n",
              "std    110016.836208      15.511611  ...      83.671304       0.327936\n",
              "min         1.000000      20.000000  ...      10.000000       0.000000\n",
              "25%     95278.000000      25.000000  ...      82.000000       0.000000\n",
              "50%    190555.000000      36.000000  ...     154.000000       0.000000\n",
              "75%    285832.000000      49.000000  ...     227.000000       0.000000\n",
              "max    381109.000000      85.000000  ...     299.000000       1.000000\n",
              "\n",
              "[8 rows x 9 columns]"
            ]
          },
          "metadata": {
            "tags": []
          },
          "execution_count": 11
        }
      ]
    },
    {
      "cell_type": "code",
      "metadata": {
        "id": "5PczJqIc9P_M",
        "colab": {
          "base_uri": "https://localhost:8080/",
          "height": 366
        },
        "outputId": "771bfa51-30af-47e9-a9f2-668553e74e7b"
      },
      "source": [
        "#plot the distribution of the target variable Response\n",
        "sns.countplot(train.Response).set_title('Distribution of the Dependent Variable')"
      ],
      "execution_count": 12,
      "outputs": [
        {
          "output_type": "stream",
          "text": [
            "/usr/local/lib/python3.6/dist-packages/seaborn/_decorators.py:43: FutureWarning: Pass the following variable as a keyword arg: x. From version 0.12, the only valid positional argument will be `data`, and passing other arguments without an explicit keyword will result in an error or misinterpretation.\n",
            "  FutureWarning\n"
          ],
          "name": "stderr"
        },
        {
          "output_type": "execute_result",
          "data": {
            "text/plain": [
              "Text(0.5, 1.0, 'Distribution of the Dependent Variable')"
            ]
          },
          "metadata": {
            "tags": []
          },
          "execution_count": 12
        },
        {
          "output_type": "display_data",
          "data": {
            "image/png": "[encoded data removed]",
            "text/plain": [
              "<Figure size 432x288 with 1 Axes>"
            ]
          },
          "metadata": {
            "tags": [],
            "needs_background": "light"
          }
        }
      ]
    },
    {
      "cell_type": "code",
      "metadata": {
        "id": "-tY_oCHK9aiA",
        "colab": {
          "base_uri": "https://localhost:8080/",
          "height": 333
        },
        "outputId": "821bcc4a-4377-49fb-ebb9-12b750d20937"
      },
      "source": [
        "#plot the distribution of Response variable by gender\n",
        "temp_df=train.groupby(['Gender','Response'])['id'].count().to_frame().rename(columns={'id':'count'}).reset_index()\n",
        "g = sns.catplot(x=\"Gender\", y=\"count\",col=\"Response\",\n",
        "                data=temp_df, kind=\"bar\",\n",
        "                height=4, aspect=.7);\n",
        "\n",
        "plt.subplots_adjust(top=0.8)\n",
        "g.fig.suptitle('Barplot of Distribution of Dependent Variable by Gender') "
      ],
      "execution_count": 13,
      "outputs": [
        {
          "output_type": "execute_result",
          "data": {
            "text/plain": [
              "Text(0.5, 0.98, 'Barplot of Distribution of Dependent Variable by Gender')"
            ]
          },
          "metadata": {
            "tags": []
          },
          "execution_count": 13
        },
        {
          "output_type": "display_data",
          "data": {
            "image/png": "[encoded data removed]",
            "text/plain": [
              "<Figure size 403.2x288 with 2 Axes>"
            ]
          },
          "metadata": {
            "tags": [],
            "needs_background": "light"
          }
        }
      ]
    },
    {
      "cell_type": "code",
      "metadata": {
        "id": "sPp_j3uj9n_w",
        "colab": {
          "base_uri": "https://localhost:8080/",
          "height": 366
        },
        "outputId": "d575cae0-5baf-4f99-9549-311c8b97db67"
      },
      "source": [
        "#check for age distribution\n",
        "sns.distplot(train.Age).set_title('Age Distribution')"
      ],
      "execution_count": 14,
      "outputs": [
        {
          "output_type": "stream",
          "text": [
            "/usr/local/lib/python3.6/dist-packages/seaborn/distributions.py:2551: FutureWarning: `distplot` is a deprecated function and will be removed in a future version. Please adapt your code to use either `displot` (a figure-level function with similar flexibility) or `histplot` (an axes-level function for histograms).\n",
            "  warnings.warn(msg, FutureWarning)\n"
          ],
          "name": "stderr"
        },
        {
          "output_type": "execute_result",
          "data": {
            "text/plain": [
              "Text(0.5, 1.0, 'Age Distribution')"
            ]
          },
          "metadata": {
            "tags": []
          },
          "execution_count": 14
        },
        {
          "output_type": "display_data",
          "data": {
            "image/png": "[encoded data removed]",
            "text/plain": [
              "<Figure size 432x288 with 1 Axes>"
            ]
          },
          "metadata": {
            "tags": [],
            "needs_background": "light"
          }
        }
      ]
    },
    {
      "cell_type": "code",
      "metadata": {
        "id": "IGHXXGpz9wDu",
        "colab": {
          "base_uri": "https://localhost:8080/",
          "height": 386
        },
        "outputId": "c7123aef-cb1b-47f9-ffa3-4135f8e813e4"
      },
      "source": [
        "#check relationship between Response variable and Policy Sales Channel\n",
        "temp_df = train\n",
        "plt.figure(figsize = (10, 4))\n",
        "sns.distplot(temp_df.loc[(temp_df['Response'] == 1), 'Policy_Sales_Channel'], kde_kws = {\"color\": \"b\", \"lw\": 1, \"label\": \"1\"})\n",
        "sns.distplot(temp_df.loc[(temp_df['Response'] == 0), 'Policy_Sales_Channel'], kde_kws = {\"color\": \"r\", \"lw\": 1, \"label\": \"0\"})\n",
        "plt.title('Policy Sales Channel by Response', fontsize = 15)\n",
        "plt.legend()\n",
        "plt.show()"
      ],
      "execution_count": 15,
      "outputs": [
        {
          "output_type": "stream",
          "text": [
            "/usr/local/lib/python3.6/dist-packages/seaborn/distributions.py:2551: FutureWarning: `distplot` is a deprecated function and will be removed in a future version. Please adapt your code to use either `displot` (a figure-level function with similar flexibility) or `histplot` (an axes-level function for histograms).\n",
            "  warnings.warn(msg, FutureWarning)\n",
            "/usr/local/lib/python3.6/dist-packages/seaborn/distributions.py:2551: FutureWarning: `distplot` is a deprecated function and will be removed in a future version. Please adapt your code to use either `displot` (a figure-level function with similar flexibility) or `histplot` (an axes-level function for histograms).\n",
            "  warnings.warn(msg, FutureWarning)\n"
          ],
          "name": "stderr"
        },
        {
          "output_type": "display_data",
          "data": {
            "image/png": "[encoded data removed]",
            "text/plain": [
              "<Figure size 720x288 with 1 Axes>"
            ]
          },
          "metadata": {
            "tags": [],
            "needs_background": "light"
          }
        }
      ]
    },
    {
      "cell_type": "code",
      "metadata": {
        "id": "lzBAcqMa-A_e",
        "colab": {
          "base_uri": "https://localhost:8080/",
          "height": 367
        },
        "outputId": "e864e53e-78d2-47e6-c0df-2f7328f534ab"
      },
      "source": [
        "#check for region distribution\n",
        "sns.distplot(train.Region_Code).set_title('Region Distribution')"
      ],
      "execution_count": 16,
      "outputs": [
        {
          "output_type": "stream",
          "text": [
            "/usr/local/lib/python3.6/dist-packages/seaborn/distributions.py:2551: FutureWarning: `distplot` is a deprecated function and will be removed in a future version. Please adapt your code to use either `displot` (a figure-level function with similar flexibility) or `histplot` (an axes-level function for histograms).\n",
            "  warnings.warn(msg, FutureWarning)\n"
          ],
          "name": "stderr"
        },
        {
          "output_type": "execute_result",
          "data": {
            "text/plain": [
              "Text(0.5, 1.0, 'Region Distribution')"
            ]
          },
          "metadata": {
            "tags": []
          },
          "execution_count": 16
        },
        {
          "output_type": "display_data",
          "data": {
            "image/png": "[encoded data removed]",
            "text/plain": [
              "<Figure size 432x288 with 1 Axes>"
            ]
          },
          "metadata": {
            "tags": [],
            "needs_background": "light"
          }
        }
      ]
    },
    {
      "cell_type": "code",
      "metadata": {
        "id": "XO0AjGi0-HU2",
        "colab": {
          "base_uri": "https://localhost:8080/",
          "height": 418
        },
        "outputId": "1249cec5-925f-457d-8aa9-a788e1b6e0e3"
      },
      "source": [
        "#distribution of Driving License variable by gender\n",
        "temp_df=train.groupby(['Gender'])['Driving_License'].count().to_frame().reset_index()\n",
        "sns.catplot(x=\"Gender\", y=\"Driving_License\",\n",
        "                data=temp_df, kind=\"bar\")\n",
        "plt.title('Barplot of Driving License by Gender', fontsize = 15)"
      ],
      "execution_count": 17,
      "outputs": [
        {
          "output_type": "execute_result",
          "data": {
            "text/plain": [
              "Text(0.5, 1.0, 'Barplot of Driving License by Gender')"
            ]
          },
          "metadata": {
            "tags": []
          },
          "execution_count": 17
        },
        {
          "output_type": "display_data",
          "data": {
            "image/png": "[encoded data removed]",
            "text/plain": [
              "<Figure size 360x360 with 1 Axes>"
            ]
          },
          "metadata": {
            "tags": [],
            "needs_background": "light"
          }
        }
      ]
    },
    {
      "cell_type": "code",
      "metadata": {
        "id": "IZza5ewx-dZ0",
        "colab": {
          "base_uri": "https://localhost:8080/",
          "height": 334
        },
        "outputId": "565ba201-fe99-489f-dcbb-99a7c80e826c"
      },
      "source": [
        "#distribution of Previously Insured variable by Vehicle Damage\n",
        "temp_df=train.groupby(['Vehicle_Damage','Previously_Insured'])['id'].count().to_frame().rename(columns={'id':'count'}).reset_index()\n",
        "g = sns.catplot(x=\"Previously_Insured\", y=\"count\",col=\"Vehicle_Damage\",\n",
        "                data=temp_df, kind=\"bar\",\n",
        "                height=4, aspect=.7);\n",
        "\n",
        "plt.subplots_adjust(top=0.8)\n",
        "g.fig.suptitle('Distribution of Previously Insured by Vehicle Damage') "
      ],
      "execution_count": 18,
      "outputs": [
        {
          "output_type": "execute_result",
          "data": {
            "text/plain": [
              "Text(0.5, 0.98, 'Distribution of Previously Insured by Vehicle Damage')"
            ]
          },
          "metadata": {
            "tags": []
          },
          "execution_count": 18
        },
        {
          "output_type": "display_data",
          "data": {
            "image/png": "[encoded data removed]",
            "text/plain": [
              "<Figure size 403.2x288 with 2 Axes>"
            ]
          },
          "metadata": {
            "tags": [],
            "needs_background": "light"
          }
        }
      ]
    },
    {
      "cell_type": "code",
      "metadata": {
        "id": "TRD7fYi5-1zL"
      },
      "source": [
        "#encode categorical variables into numerical and apply changes to a temporary dataframe\n",
        "temp_data = train\n",
        "Gender = {'Male': 0, 'Female': 1}\n",
        "Driving_License = {0: 0, 1: 1}\n",
        "Previously_Insured = {0: 1, 1: 0}\n",
        "Vehicle_Age = {'> 2 Years': 2, '1-2 Year': 1, '< 1 Year': 0}\n",
        "Vehicle_Damage = {'Yes': 1, 'No': 0}\n",
        "\n",
        "temp_data['Gender'] = temp_data['Gender'].map(Gender)\n",
        "temp_data['Driving_License'] = temp_data['Driving_License'].map(Driving_License)\n",
        "temp_data['Previously_Insured'] = temp_data['Previously_Insured'].map(Previously_Insured)\n",
        "temp_data['Vehicle_Age'] = temp_data['Vehicle_Age'].map(Vehicle_Age)\n",
        "temp_data['Vehicle_Damage'] = temp_data['Vehicle_Damage'].map(Vehicle_Damage)\n",
        "\n",
        "temp_data['Policy_Sales_Channel'] = temp_data['Policy_Sales_Channel'].apply(lambda x: np.int(x))\n",
        "temp_data['Region_Code'] = temp_data['Region_Code'].apply(lambda x: np.int(x))"
      ],
      "execution_count": 19,
      "outputs": []
    },
    {
      "cell_type": "code",
      "metadata": {
        "id": "j6rH2WuT_qaK",
        "colab": {
          "base_uri": "https://localhost:8080/",
          "height": 964
        },
        "outputId": "f6ccb7ee-e12a-48fe-d967-f281ca1aee2a"
      },
      "source": [
        "#check for correlation matrix\n",
        "corrMatrix = temp_data.corr()\n",
        "plt.subplots(figsize=(20,15))\n",
        "ax = sns.heatmap(corrMatrix, annot = True)\n",
        "bottom, top = ax.get_ylim()\n",
        "ax.set_ylim(bottom + 0.5, top - 0.5)\n",
        "plt.show()"
      ],
      "execution_count": 20,
      "outputs": [
        {
          "output_type": "display_data",
          "data": {
            "image/png": "[encoded data removed]",
            "text/plain": [
              "<Figure size 1440x1080 with 2 Axes>"
            ]
          },
          "metadata": {
            "tags": [],
            "needs_background": "light"
          }
        }
      ]
    },
    {
      "cell_type": "code",
      "metadata": {
        "id": "WOkCIMASAwtc",
        "colab": {
          "base_uri": "https://localhost:8080/"
        },
        "outputId": "a3a58894-dcbb-422d-ead9-637ebcb56263"
      },
      "source": [
        "#check for distribution of the Driving License variable\n",
        "print(\"Percentage of Driving_License feature\\n \")\n",
        "print(train['Driving_License'].value_counts()/len(train)*100)"
      ],
      "execution_count": 21,
      "outputs": [
        {
          "output_type": "stream",
          "text": [
            "Percentage of Driving_License feature\n",
            " \n",
            "1    99.786938\n",
            "0     0.213062\n",
            "Name: Driving_License, dtype: float64\n"
          ],
          "name": "stdout"
        }
      ]
    },
    {
      "cell_type": "code",
      "metadata": {
        "id": "YTEjz89g_yNz",
        "colab": {
          "base_uri": "https://localhost:8080/",
          "height": 367
        },
        "outputId": "dfaea2a0-3b60-4d32-aecd-d95cdcafd5bc"
      },
      "source": [
        "#count the number of response based on Driving License\n",
        "f,ax = plt.subplots(nrows=1,ncols=1,figsize=(6,4))\n",
        "#axx = ax.flatten()\n",
        "plt.title(\"Count plot of Driving_License vs Response\")\n",
        "#sns.countplot(train['Driving_License'],ax = axx[0],palette = 'rocket')\n",
        "sns.countplot('Driving_License', hue = 'Response',data = train,palette=\"rocket_r\")"
      ],
      "execution_count": 22,
      "outputs": [
        {
          "output_type": "stream",
          "text": [
            "/usr/local/lib/python3.6/dist-packages/seaborn/_decorators.py:43: FutureWarning: Pass the following variable as a keyword arg: x. From version 0.12, the only valid positional argument will be `data`, and passing other arguments without an explicit keyword will result in an error or misinterpretation.\n",
            "  FutureWarning\n"
          ],
          "name": "stderr"
        },
        {
          "output_type": "execute_result",
          "data": {
            "text/plain": [
              "<matplotlib.axes._subplots.AxesSubplot at 0x7ff81cdd25f8>"
            ]
          },
          "metadata": {
            "tags": []
          },
          "execution_count": 22
        },
        {
          "output_type": "display_data",
          "data": {
            "image/png": "[encoded data removed]",
            "text/plain": [
              "<Figure size 432x288 with 1 Axes>"
            ]
          },
          "metadata": {
            "tags": [],
            "needs_background": "light"
          }
        }
      ]
    },
    {
      "cell_type": "code",
      "metadata": {
        "id": "NFaE8SaW_-et",
        "colab": {
          "base_uri": "https://localhost:8080/",
          "height": 334
        },
        "outputId": "e958da4a-6666-4e3d-af78-629113e58757"
      },
      "source": [
        "##plot distribution of the Response variable by Vehile Age\n",
        "temp_df=train.groupby(['Vehicle_Age','Response'])['id'].count().to_frame().rename(columns={'id':'count'}).reset_index()\n",
        "g = sns.catplot(x=\"Vehicle_Age\", y=\"count\",col=\"Response\",\n",
        "                data=temp_df, kind=\"bar\",\n",
        "                height=4, aspect=.7);\n",
        "\n",
        "plt.subplots_adjust(top=0.8)\n",
        "g.fig.suptitle('Barplot of Dependent Variable by Vehile Age') "
      ],
      "execution_count": 23,
      "outputs": [
        {
          "output_type": "execute_result",
          "data": {
            "text/plain": [
              "Text(0.5, 0.98, 'Barplot of Dependent Variable by Vehile Age')"
            ]
          },
          "metadata": {
            "tags": []
          },
          "execution_count": 23
        },
        {
          "output_type": "display_data",
          "data": {
            "image/png": "[encoded data removed]",
            "text/plain": [
              "<Figure size 403.2x288 with 2 Axes>"
            ]
          },
          "metadata": {
            "tags": [],
            "needs_background": "light"
          }
        }
      ]
    },
    {
      "cell_type": "code",
      "metadata": {
        "id": "9m8OpSvZAILk"
      },
      "source": [
        "#define age variable into different categories\n",
        "ages = train['Age']\n",
        "bins = [19, 30, 50, 90]\n",
        "labels = ['Young', 'Middle Age', 'Elderly']\n",
        "train['Age_bracket'] = pd.cut(ages, bins, labels = labels,include_lowest = True)"
      ],
      "execution_count": 24,
      "outputs": []
    },
    {
      "cell_type": "code",
      "metadata": {
        "id": "XnYFodMTASvI",
        "colab": {
          "base_uri": "https://localhost:8080/",
          "height": 334
        },
        "outputId": "f2ff483b-1a74-47f3-a635-46106b07cd6c"
      },
      "source": [
        "#distribution of the Response variable by age group\n",
        "temp_df=train.groupby(['Age_bracket','Response'])['id'].count().to_frame().rename(columns={'id':'count'}).reset_index()\n",
        "g = sns.catplot(x=\"Age_bracket\", y=\"count\",col=\"Response\",\n",
        "                data=temp_df, kind=\"bar\",\n",
        "                height=4, aspect=.7);\n",
        "\n",
        "plt.subplots_adjust(top=0.8)\n",
        "g.fig.suptitle('Barplot of Dependent Variable by Age Group') "
      ],
      "execution_count": 25,
      "outputs": [
        {
          "output_type": "execute_result",
          "data": {
            "text/plain": [
              "Text(0.5, 0.98, 'Barplot of Dependent Variable by Age Group')"
            ]
          },
          "metadata": {
            "tags": []
          },
          "execution_count": 25
        },
        {
          "output_type": "display_data",
          "data": {
            "image/png": "[encoded data removed]",
            "text/plain": [
              "<Figure size 403.2x288 with 2 Axes>"
            ]
          },
          "metadata": {
            "tags": [],
            "needs_background": "light"
          }
        }
      ]
    },
    {
      "cell_type": "code",
      "metadata": {
        "id": "_UGoFJChAh2H"
      },
      "source": [
        "#define Vintage variable into different categories by using quartiles\n",
        "loyalty = train['Vintage']\n",
        "bins = [0, 82, 154, 227, 300]\n",
        "labels = ['q1', 'q2', 'q3','q4']\n",
        "train['loyalty_bracket'] = pd.cut(loyalty, bins, labels = labels,include_lowest = True)"
      ],
      "execution_count": 26,
      "outputs": []
    },
    {
      "cell_type": "code",
      "metadata": {
        "id": "ot07tcM-AlYs",
        "colab": {
          "base_uri": "https://localhost:8080/",
          "height": 334
        },
        "outputId": "31f938a3-bf7a-4507-d5da-aeb8ab8aff3e"
      },
      "source": [
        "#distribution of the Response variable by Vintage\n",
        "temp_df=train.groupby(['loyalty_bracket','Response'])['id'].count().to_frame().rename(columns={'id':'count'}).reset_index()\n",
        "g = sns.catplot(x=\"loyalty_bracket\", y=\"count\",col=\"Response\",\n",
        "                data=temp_df, kind=\"bar\",\n",
        "                height=4, aspect=.7);\n",
        "\n",
        "plt.subplots_adjust(top=0.8)\n",
        "g.fig.suptitle('Barplot of Dependent Variable by Vintage') "
      ],
      "execution_count": 27,
      "outputs": [
        {
          "output_type": "execute_result",
          "data": {
            "text/plain": [
              "Text(0.5, 0.98, 'Barplot of Dependent Variable by Vintage')"
            ]
          },
          "metadata": {
            "tags": []
          },
          "execution_count": 27
        },
        {
          "output_type": "display_data",
          "data": {
            "image/png": "[encoded data removed]",
            "text/plain": [
              "<Figure size 403.2x288 with 2 Axes>"
            ]
          },
          "metadata": {
            "tags": [],
            "needs_background": "light"
          }
        }
      ]
    },
    {
      "cell_type": "markdown",
      "metadata": {
        "id": "MWy7p15mfsL6"
      },
      "source": [
        "### Data Processing"
      ]
    },
    {
      "cell_type": "code",
      "metadata": {
        "id": "-fUaROgTfEMT"
      },
      "source": [
        "#convert data from pandas dataframe to spark dataframe for analysis and modeling\n",
        "traindf = spark.createDataFrame(data_df)"
      ],
      "execution_count": 8,
      "outputs": []
    },
    {
      "cell_type": "code",
      "metadata": {
        "colab": {
          "base_uri": "https://localhost:8080/",
          "height": 204
        },
        "id": "Q7HBz_MOfGhc",
        "outputId": "03d3f0c8-d303-4f8a-d520-fa77472e8805"
      },
      "source": [
        "display(traindf.toPandas().head())"
      ],
      "execution_count": 9,
      "outputs": [
        {
          "output_type": "display_data",
          "data": {
            "text/html": [
              "<div>\n",
              "<style scoped>\n",
              "    .dataframe tbody tr th:only-of-type {\n",
              "        vertical-align: middle;\n",
              "    }\n",
              "\n",
              "    .dataframe tbody tr th {\n",
              "        vertical-align: top;\n",
              "    }\n",
              "\n",
              "    .dataframe thead th {\n",
              "        text-align: right;\n",
              "    }\n",
              "</style>\n",
              "<table border=\"1\" class=\"dataframe\">\n",
              "  <thead>\n",
              "    <tr style=\"text-align: right;\">\n",
              "      <th></th>\n",
              "      <th>id</th>\n",
              "      <th>Gender</th>\n",
              "      <th>Age</th>\n",
              "      <th>Driving_License</th>\n",
              "      <th>Region_Code</th>\n",
              "      <th>Previously_Insured</th>\n",
              "      <th>Vehicle_Age</th>\n",
              "      <th>Vehicle_Damage</th>\n",
              "      <th>Annual_Premium</th>\n",
              "      <th>Policy_Sales_Channel</th>\n",
              "      <th>Vintage</th>\n",
              "      <th>Response</th>\n",
              "    </tr>\n",
              "  </thead>\n",
              "  <tbody>\n",
              "    <tr>\n",
              "      <th>0</th>\n",
              "      <td>1</td>\n",
              "      <td>Male</td>\n",
              "      <td>44</td>\n",
              "      <td>1</td>\n",
              "      <td>28.0</td>\n",
              "      <td>0</td>\n",
              "      <td>&gt; 2 Years</td>\n",
              "      <td>Yes</td>\n",
              "      <td>40454.0</td>\n",
              "      <td>26.0</td>\n",
              "      <td>217</td>\n",
              "      <td>1</td>\n",
              "    </tr>\n",
              "    <tr>\n",
              "      <th>1</th>\n",
              "      <td>2</td>\n",
              "      <td>Male</td>\n",
              "      <td>76</td>\n",
              "      <td>1</td>\n",
              "      <td>3.0</td>\n",
              "      <td>0</td>\n",
              "      <td>1-2 Year</td>\n",
              "      <td>No</td>\n",
              "      <td>33536.0</td>\n",
              "      <td>26.0</td>\n",
              "      <td>183</td>\n",
              "      <td>0</td>\n",
              "    </tr>\n",
              "    <tr>\n",
              "      <th>2</th>\n",
              "      <td>3</td>\n",
              "      <td>Male</td>\n",
              "      <td>47</td>\n",
              "      <td>1</td>\n",
              "      <td>28.0</td>\n",
              "      <td>0</td>\n",
              "      <td>&gt; 2 Years</td>\n",
              "      <td>Yes</td>\n",
              "      <td>38294.0</td>\n",
              "      <td>26.0</td>\n",
              "      <td>27</td>\n",
              "      <td>1</td>\n",
              "    </tr>\n",
              "    <tr>\n",
              "      <th>3</th>\n",
              "      <td>4</td>\n",
              "      <td>Male</td>\n",
              "      <td>21</td>\n",
              "      <td>1</td>\n",
              "      <td>11.0</td>\n",
              "      <td>1</td>\n",
              "      <td>&lt; 1 Year</td>\n",
              "      <td>No</td>\n",
              "      <td>28619.0</td>\n",
              "      <td>152.0</td>\n",
              "      <td>203</td>\n",
              "      <td>0</td>\n",
              "    </tr>\n",
              "    <tr>\n",
              "      <th>4</th>\n",
              "      <td>5</td>\n",
              "      <td>Female</td>\n",
              "      <td>29</td>\n",
              "      <td>1</td>\n",
              "      <td>41.0</td>\n",
              "      <td>1</td>\n",
              "      <td>&lt; 1 Year</td>\n",
              "      <td>No</td>\n",
              "      <td>27496.0</td>\n",
              "      <td>152.0</td>\n",
              "      <td>39</td>\n",
              "      <td>0</td>\n",
              "    </tr>\n",
              "  </tbody>\n",
              "</table>\n",
              "</div>"
            ],
            "text/plain": [
              "   id  Gender  Age  ...  Policy_Sales_Channel  Vintage  Response\n",
              "0   1    Male   44  ...                  26.0      217         1\n",
              "1   2    Male   76  ...                  26.0      183         0\n",
              "2   3    Male   47  ...                  26.0       27         1\n",
              "3   4    Male   21  ...                 152.0      203         0\n",
              "4   5  Female   29  ...                 152.0       39         0\n",
              "\n",
              "[5 rows x 12 columns]"
            ]
          },
          "metadata": {
            "tags": []
          }
        }
      ]
    },
    {
      "cell_type": "code",
      "metadata": {
        "id": "PpKtOL8VfIuN"
      },
      "source": [
        "#use StringIndexerModel to convert categorical variables into numerical\n",
        "\n",
        "gender_pipe = StringIndexerModel.from_labels(['Female', 'Male'],\n",
        "                                    inputCol=\"Gender\",\n",
        "                                    outputCol=\"Gender_encoded\")\n",
        "\n",
        "Vehicle_Age_pipe = StringIndexerModel.from_labels(['< 1 Year', '1-2 Year','> 2 Years'],\n",
        "                                    inputCol=\"Vehicle_Age\",\n",
        "                                    outputCol=\"Vehicle_Age_encoded\")\n",
        "\n",
        "Vehicle_Damage_pipe = StringIndexerModel.from_labels(['No', 'Yes'],\n",
        "                                    inputCol=\"Vehicle_Damage\",\n",
        "                                    outputCol=\"Vehicle_Damage_encoded\")\n",
        "\n",
        "one_hot_pipe = Pipeline(stages = [gender_pipe, Vehicle_Age_pipe, Vehicle_Damage_pipe])\n",
        "traindf = one_hot_pipe.fit(traindf).transform(traindf)"
      ],
      "execution_count": 10,
      "outputs": []
    },
    {
      "cell_type": "code",
      "metadata": {
        "id": "8dYoUSywfvzm"
      },
      "source": [
        "#drop id column and original categorical columns\n",
        "traindf = traindf.drop(\"id\",\"Gender\",\"Vehicle_Age\",\"Vehicle_Damage\")\n",
        "#split dataset into train and val set by 70/30\n",
        "train_df, val_df = traindf.randomSplit([0.7, 0.3])"
      ],
      "execution_count": 11,
      "outputs": []
    },
    {
      "cell_type": "code",
      "metadata": {
        "colab": {
          "base_uri": "https://localhost:8080/"
        },
        "id": "DNegLCywfyWZ",
        "outputId": "cd6dd36b-ed40-47ef-acfc-5b8abde0c88a"
      },
      "source": [
        "#check for data types\n",
        "train_df.printSchema()"
      ],
      "execution_count": 12,
      "outputs": [
        {
          "output_type": "stream",
          "text": [
            "root\n",
            " |-- Age: long (nullable = true)\n",
            " |-- Driving_License: long (nullable = true)\n",
            " |-- Region_Code: double (nullable = true)\n",
            " |-- Previously_Insured: long (nullable = true)\n",
            " |-- Annual_Premium: double (nullable = true)\n",
            " |-- Policy_Sales_Channel: double (nullable = true)\n",
            " |-- Vintage: long (nullable = true)\n",
            " |-- Response: long (nullable = true)\n",
            " |-- Gender_encoded: double (nullable = false)\n",
            " |-- Vehicle_Age_encoded: double (nullable = false)\n",
            " |-- Vehicle_Damage_encoded: double (nullable = false)\n",
            "\n"
          ],
          "name": "stdout"
        }
      ]
    },
    {
      "cell_type": "code",
      "metadata": {
        "id": "RHpDehUBf3HM"
      },
      "source": [
        "#use VectorAssembler to combine all independent variables into a feature column.\n",
        "preprocess_pipe = Pipeline(stages=[\n",
        "    feature.VectorAssembler(inputCols=['Age','Driving_License','Region_Code','Previously_Insured',\n",
        "                                       'Annual_Premium','Policy_Sales_Channel','Vintage',\n",
        "                                       'Gender_encoded','Vehicle_Age_encoded','Vehicle_Damage_encoded'],\n",
        "                            outputCol='features')]).fit(train_df)"
      ],
      "execution_count": 13,
      "outputs": []
    },
    {
      "cell_type": "code",
      "metadata": {
        "id": "DiMk6LsPf58K"
      },
      "source": [
        "#apply changes to train and validation set\n",
        "train_df = preprocess_pipe.transform(train_df)\n",
        "val_df = preprocess_pipe.transform(val_df)"
      ],
      "execution_count": 14,
      "outputs": []
    },
    {
      "cell_type": "markdown",
      "metadata": {
        "id": "V3l0DMABgFpv"
      },
      "source": [
        "### Model"
      ]
    },
    {
      "cell_type": "markdown",
      "metadata": {
        "id": "9eRJ2BZIgepT"
      },
      "source": [
        "#### LR"
      ]
    },
    {
      "cell_type": "code",
      "metadata": {
        "id": "bOlKVb5XgIGl"
      },
      "source": [
        "#first build Logistic Regression model with default setting \n",
        "lr = LogisticRegression().setLabelCol('Response').setFeaturesCol('features')\n",
        "lr_model = lr.fit(train_df)"
      ],
      "execution_count": 15,
      "outputs": []
    },
    {
      "cell_type": "code",
      "metadata": {
        "id": "3gc5dDO9gTCl",
        "colab": {
          "base_uri": "https://localhost:8080/"
        },
        "outputId": "c6674d0f-71b6-4f21-aed5-d7616479c6a4"
      },
      "source": [
        "#use AUC Score to check model performance\n",
        "evaluator = BinaryClassificationEvaluator(rawPredictionCol=\"probability\", labelCol=\"Response\", metricName=\"areaUnderROC\")\n",
        "lr_pred = lr_model.transform(val_df)\n",
        "print(evaluator.evaluate(lr_pred))"
      ],
      "execution_count": 16,
      "outputs": [
        {
          "output_type": "stream",
          "text": [
            "0.8325088822145161\n"
          ],
          "name": "stdout"
        }
      ]
    },
    {
      "cell_type": "code",
      "metadata": {
        "id": "NmUGz7sy-o3K",
        "colab": {
          "base_uri": "https://localhost:8080/"
        },
        "outputId": "156cce03-e740-4177-9412-dd5e1a034017"
      },
      "source": [
        "#use classification report to check precision, recall and accuracy\n",
        "y_true_lr = lr_pred.select(['Response']).collect()\n",
        "y_pred_lr = lr_pred.select(['Prediction']).collect()\n",
        "\n",
        "print(classification_report(y_true_lr,y_pred_lr))"
      ],
      "execution_count": 17,
      "outputs": [
        {
          "output_type": "stream",
          "text": [
            "              precision    recall  f1-score   support\n",
            "\n",
            "           0       0.88      1.00      0.93    100421\n",
            "           1       0.38      0.00      0.00     14143\n",
            "\n",
            "    accuracy                           0.88    114564\n",
            "   macro avg       0.63      0.50      0.47    114564\n",
            "weighted avg       0.82      0.88      0.82    114564\n",
            "\n"
          ],
          "name": "stdout"
        }
      ]
    },
    {
      "cell_type": "markdown",
      "metadata": {
        "id": "UnlYbxFyglmx"
      },
      "source": [
        "#### DT"
      ]
    },
    {
      "cell_type": "code",
      "metadata": {
        "id": "m3FNorUcgWCF"
      },
      "source": [
        "#build Decision Tree model and check its AUC score\n",
        "dt = DecisionTreeClassifier().setLabelCol('Response').setFeaturesCol('features').setMaxDepth(7)\n",
        "dt_model = dt.fit(train_df)\n",
        "\n",
        "dt_pred = dt_model.transform(val_df)\n",
        "print(evaluator.evaluate(dt_pred))"
      ],
      "execution_count": null,
      "outputs": []
    },
    {
      "cell_type": "code",
      "metadata": {
        "id": "uDahHvI2AKrK"
      },
      "source": [
        "#use classification report to get precision, recall and accuracy\n",
        "y_true_dt = dt_pred.select(['Response']).collect()\n",
        "y_pred_dt = dt_pred.select(['Prediction']).collect()\n",
        "\n",
        "print(classification_report(y_true_dt,y_pred_dt))"
      ],
      "execution_count": null,
      "outputs": []
    },
    {
      "cell_type": "markdown",
      "metadata": {
        "id": "sLCzETVYgy4D"
      },
      "source": [
        "#### Random Forest"
      ]
    },
    {
      "cell_type": "code",
      "metadata": {
        "id": "hbpakKPEg1wz"
      },
      "source": [
        "#build Random Forest model with default setting \n",
        "rf = RandomForestClassifier(labelCol=\"Response\", featuresCol=\"features\")\n",
        "rf_model = rf.fit(train_df)"
      ],
      "execution_count": null,
      "outputs": []
    },
    {
      "cell_type": "code",
      "metadata": {
        "id": "1YumVCB8g4PF"
      },
      "source": [
        "#Evaluate the model\n",
        "rf_pred = rf_model.transform(val_df)\n",
        "print(evaluator.evaluate(rf_pred))"
      ],
      "execution_count": null,
      "outputs": []
    },
    {
      "cell_type": "code",
      "metadata": {
        "id": "qhmbBJZvAz8P"
      },
      "source": [
        "#get precision, recall and accuracy of Random Forest\n",
        "y_true_rf = rf_pred.select(['Response']).collect()\n",
        "y_pred_rf = rf_pred.select(['Prediction']).collect()\n",
        "\n",
        "print(classification_report(y_true_rf, y_pred_rf))"
      ],
      "execution_count": null,
      "outputs": []
    },
    {
      "cell_type": "markdown",
      "metadata": {
        "id": "PXOUbUbQg9Z7"
      },
      "source": [
        "#### GBT"
      ]
    },
    {
      "cell_type": "code",
      "metadata": {
        "id": "SDPg3CaJg6zs"
      },
      "source": [
        "#build GBTClassifier model\n",
        "gbt = GBTClassifier(maxIter=10,labelCol='Response', featuresCol='features')\n",
        "gbt_model = gbt.fit(train_df)"
      ],
      "execution_count": null,
      "outputs": []
    },
    {
      "cell_type": "code",
      "metadata": {
        "id": "ZL7K7SmkhCGj"
      },
      "source": [
        "#Evaluate the model using AUC\n",
        "gbt_pred = gbt_model.transform(val_df)\n",
        "print(evaluator.evaluate(gbt_pred))"
      ],
      "execution_count": null,
      "outputs": []
    },
    {
      "cell_type": "code",
      "metadata": {
        "id": "apq2whjqB_b9"
      },
      "source": [
        "#get precision, recall and accuracy of GBT model\n",
        "y_true_gbt = gbt_pred.select(['Response']).collect()\n",
        "y_pred_gbt = gbt_pred.select(['Prediction']).collect()\n",
        "\n",
        "print(classification_report(y_true_gbt, y_pred_gbt))"
      ],
      "execution_count": null,
      "outputs": []
    },
    {
      "cell_type": "markdown",
      "metadata": {
        "id": "fZ5YIOVbD-_V"
      },
      "source": [
        "### PCA"
      ]
    },
    {
      "cell_type": "code",
      "metadata": {
        "id": "v2SS7hdvECg0"
      },
      "source": [
        "#normalize and standardlize the train set and get pca score\n",
        "normal = feature.Normalizer(inputCol='features', outputCol='nfeatures')\n",
        "standardize = feature.StandardScaler(withMean=True, withStd=False, inputCol='nfeatures', outputCol='zfeatures')\n",
        "pca = feature.PCA(k=2, inputCol='zfeatures', outputCol='pca')\n",
        "\n",
        "pipe_pca = Pipeline(stages=[normal, standardize, pca])\n",
        "pca_model = pipe_pca.fit(train_df)\n",
        "train_pca = pca_model.transform(train_df)"
      ],
      "execution_count": null,
      "outputs": []
    },
    {
      "cell_type": "code",
      "metadata": {
        "id": "OzjFL5FTRpKY"
      },
      "source": [
        "#create 2D PCA visualization and check for data points distribution\n",
        "P = np.array(train_pca.select('pca').rdd.map(lambda x: x['pca']).collect())\n",
        "color = np.array(train_pca.select('Response').rdd.map(lambda x: x['Response']).collect())\n",
        "\n",
        "fig, ax = plt.subplots()\n",
        "fig.set_figheight(10)\n",
        "fig.set_figwidth(10)\n",
        "sc = ax.scatter(P[:,0], P[:,1], c=color, alpha=0.6, s=10)\n",
        "fig.suptitle(\"PC2 Scores vs. PC1 Scores\", y=.92)\n",
        "fig.colorbar(sc)\n",
        "ax.set_xlabel(\"PC1\")\n",
        "ax.set_ylabel(\"PC2\")\n",
        "\n",
        "plt.show()"
      ],
      "execution_count": null,
      "outputs": []
    },
    {
      "cell_type": "markdown",
      "metadata": {
        "id": "v5gpsiBPhJOo"
      },
      "source": [
        "### Undersampling"
      ]
    },
    {
      "cell_type": "code",
      "metadata": {
        "id": "diiaxhDThEl9"
      },
      "source": [
        "#%%bash\n",
        "\n",
        "#pip install imblearn"
      ],
      "execution_count": null,
      "outputs": []
    },
    {
      "cell_type": "code",
      "metadata": {
        "id": "bd-EGzg5hPnd"
      },
      "source": [
        "#since we are dealing with a very unbalanced data, we use undersampling technique to resample our data\n",
        "#it will take part of the majority class data\n",
        "undersampleDF = traindf\n",
        "undersampleDF_Pandas = undersampleDF.toPandas()"
      ],
      "execution_count": null,
      "outputs": []
    },
    {
      "cell_type": "code",
      "metadata": {
        "id": "e3ZdntcDhTlr"
      },
      "source": [
        "#split the original data into two sub dataframe, one contains all independent variables and one contains target variable\n",
        "X = undersampleDF_Pandas.filter(items=['Age','Driving_License','Region_Code','Previously_Insured',\n",
        "                                       'Annual_Premium','Policy_Sales_Channel','Vintage',\n",
        "                                       'Gender_encoded','Vehicle_Age_encoded','Vehicle_Damage_encoded'])\n",
        "y = undersampleDF_Pandas.filter(items=['Response'])"
      ],
      "execution_count": null,
      "outputs": []
    },
    {
      "cell_type": "code",
      "metadata": {
        "id": "Tcrx8ytDhV0N"
      },
      "source": [
        "X.shape,y.shape"
      ],
      "execution_count": null,
      "outputs": []
    },
    {
      "cell_type": "code",
      "metadata": {
        "id": "fMQ9-fvghX8p"
      },
      "source": [
        "#split original dataset into train and validation set by 70/30\n",
        "X_train, X_test, y_train, y_test = train_test_split(X, y, test_size=0.3, random_state = 0)"
      ],
      "execution_count": null,
      "outputs": []
    },
    {
      "cell_type": "code",
      "metadata": {
        "id": "uwwlnsiZHRln"
      },
      "source": [
        "#build undersampler\n",
        "undersample = RandomUnderSampler(sampling_strategy='majority', random_state=0)"
      ],
      "execution_count": null,
      "outputs": []
    },
    {
      "cell_type": "code",
      "metadata": {
        "id": "6yCrtowQHU_c"
      },
      "source": [
        "#apply undersampling on train set\n",
        "X_train_res, y_train_res = undersample.fit_resample(X_train, y_train)"
      ],
      "execution_count": null,
      "outputs": []
    },
    {
      "cell_type": "code",
      "metadata": {
        "id": "b1JJ9rvWhm_I"
      },
      "source": [
        "#Coonvert the resampled data into two dataframes\n",
        "df_1=pd.DataFrame(X_train_res,columns=['Age','Driving_License','Region_Code','Previously_Insured',\n",
        "                                       'Annual_Premium','Policy_Sales_Channel','Vintage',\n",
        "                                       'Gender_encoded','Vehicle_Age_encoded','Vehicle_Damage_encoded'])\n",
        "df_2=pd.DataFrame(y_train_res,columns=['Response'])\n",
        "#merge the resampled feature data and resampled target data\n",
        "result=df_1.combine_first(df_2)\n",
        "#convert it back to spark dataframe\n",
        "train_new = spark.createDataFrame(result)"
      ],
      "execution_count": null,
      "outputs": []
    },
    {
      "cell_type": "code",
      "metadata": {
        "id": "kN-W41PYhp16"
      },
      "source": [
        "#for resampled train set, check target variable distribution\n",
        "responses = train_new.groupBy('Response').count().collect()\n",
        "responses"
      ],
      "execution_count": null,
      "outputs": []
    },
    {
      "cell_type": "code",
      "metadata": {
        "id": "4j3CrQEvht2N"
      },
      "source": [
        "#use the initial 30% of the original data as validation set\n",
        "val_set = X_test.combine_first(y_test)\n",
        "validation_df = spark.createDataFrame(val_set)"
      ],
      "execution_count": null,
      "outputs": []
    },
    {
      "cell_type": "code",
      "metadata": {
        "id": "tkIkssO8hzz5"
      },
      "source": [
        "#for resampled data, use VectorAssembler to combine all independent variables into a feature column.\n",
        "pipe_1 = Pipeline(stages=[\n",
        "    feature.VectorAssembler(inputCols=['Age','Driving_License','Region_Code','Previously_Insured',\n",
        "                                       'Annual_Premium','Policy_Sales_Channel','Vintage',\n",
        "                                       'Gender_encoded','Vehicle_Age_encoded','Vehicle_Damage_encoded'],\n",
        "                           outputCol='features')]).fit(train_new)\n",
        "\n",
        "train_new = pipe_1.transform(train_new)\n",
        "validation_df = pipe_1.transform(validation_df)"
      ],
      "execution_count": null,
      "outputs": []
    },
    {
      "cell_type": "markdown",
      "metadata": {
        "id": "2UyUybMMiAsP"
      },
      "source": [
        "#### DT Undersampling"
      ]
    },
    {
      "cell_type": "code",
      "metadata": {
        "id": "qtko-QHmiEaA"
      },
      "source": [
        "#use resampled data to rerun the previous Decision Tree model and check the performance\n",
        "dt_model_1 = dt.fit(train_new)\n",
        "\n",
        "### Evaluation model.\n",
        "pred = dt_model_1.transform(validation_df)\n",
        "print(evaluator.evaluate(pred))"
      ],
      "execution_count": null,
      "outputs": []
    },
    {
      "cell_type": "code",
      "metadata": {
        "id": "tBbGrU0qimgM"
      },
      "source": [
        "#print the tree output\n",
        "print(dt_model_1.toDebugString)"
      ],
      "execution_count": null,
      "outputs": []
    },
    {
      "cell_type": "code",
      "metadata": {
        "id": "Wy5Dt-Ihkw4l"
      },
      "source": [
        "#apply grid search on Decision Tree, using resampled data\n",
        "if enable_grid_search:\n",
        "  dt_grid = ParamGridBuilder().addGrid(dt.maxDepth, [5, 10, 15, 20]).addGrid(dt.maxBins, [10, 20, 30, 40]).build()\n",
        "  all_dt_models = []\n",
        "  for i in range(len(dt_grid)):\n",
        "    model = dt.fit(train_new, dt_grid[i])\n",
        "    all_dt_models.append(model)\n",
        "  dt_auc = []\n",
        "  for m in all_dt_models:\n",
        "    new_dt_model = m.transform(validation_df)\n",
        "    dt_auc.append(evaluator.evaluate(new_dt_model))\n",
        "  best_model_idx = np.argmax(dt_auc)\n",
        "  print(\"best model index =\", best_model_idx)\n",
        "  print(dt_grid[best_model_idx])\n",
        "  pass"
      ],
      "execution_count": null,
      "outputs": []
    },
    {
      "cell_type": "code",
      "metadata": {
        "id": "KHW5f21B1AGu"
      },
      "source": [
        "#record the grid search output and build the best Decision Tree model\n",
        "dt_maxdepth = 10\n",
        "dt_maxbins = 10\n",
        "\n",
        "optimal_dt = DecisionTreeClassifier().setLabelCol('Response').setFeaturesCol('features').setMaxDepth(dt_maxdepth).setMaxBins(dt_maxbins)\n",
        "best_dt_model = optimal_dt.fit(train_new)\n",
        "best_dt_pred = best_dt_model.transform(validation_df)\n",
        "print(evaluator.evaluate(best_dt_pred))"
      ],
      "execution_count": null,
      "outputs": []
    },
    {
      "cell_type": "code",
      "metadata": {
        "id": "2DDV3a6xu0Bq"
      },
      "source": [
        "#recheck the precision, recall and accuracy\n",
        "best_y_true_dt = best_dt_pred.select(['Response']).collect()\n",
        "best_y_pred_dt = best_dt_pred.select(['Prediction']).collect()\n",
        "\n",
        "print(classification_report(best_y_true_dt,best_y_pred_dt))"
      ],
      "execution_count": null,
      "outputs": []
    },
    {
      "cell_type": "code",
      "metadata": {
        "id": "Opf5J29GoHM3"
      },
      "source": [
        "#In order to answer one of our prediction questions, we want to visualize the Decision tree output\n",
        "#We have tried to plot the tree of the best model, but there are too many nodes and it's really hard to interpret it\n",
        "#we rebuild a dt model with max depth = 5 and max bins = 5 and get its visualized output, now the size of the tree is manageable\n",
        "dtviz_maxdepth = 5\n",
        "dtviz_maxbins = 5\n",
        "\n",
        "viz_dt = DecisionTreeClassifier().setLabelCol('Response').setFeaturesCol('features').setMaxDepth(dtviz_maxdepth).setMaxBins(dtviz_maxbins)\n",
        "viz_dt_model = viz_dt.fit(train_new)\n",
        "viz_dt_pred = viz_dt_model.transform(validation_df)"
      ],
      "execution_count": null,
      "outputs": []
    },
    {
      "cell_type": "code",
      "metadata": {
        "id": "0kl7x9nFMwbh"
      },
      "source": [
        "features = ['Age','Driving_License','Region_Code','Previously_Insured','Annual_Premium','Policy_Sales_Channel','Vintage','Gender_encoded','Vehicle_Age_encoded','Vehicle_Damage_encoded']\n",
        "target = \"Response\"\n",
        "viz_df = viz_dt_pred.toPandas()[features + [target]]"
      ],
      "execution_count": null,
      "outputs": []
    },
    {
      "cell_type": "code",
      "metadata": {
        "id": "emZix003NddW"
      },
      "source": [
        "spark_dtree = ShadowSparkTree(viz_dt_model, viz_df[features], viz_df[target], feature_names=features, target_name=target, class_names=[0, 1])"
      ],
      "execution_count": null,
      "outputs": []
    },
    {
      "cell_type": "code",
      "metadata": {
        "id": "a7a8OlLDNkH6"
      },
      "source": [
        "trees.dtreeviz(spark_dtree, fancy=False)"
      ],
      "execution_count": null,
      "outputs": []
    },
    {
      "cell_type": "markdown",
      "metadata": {
        "id": "Bn8SH32fl01D"
      },
      "source": [
        "#### LR Undersampling"
      ]
    },
    {
      "cell_type": "code",
      "metadata": {
        "id": "fvhyc6kxl5RY"
      },
      "source": [
        "#rerun the previous Logistic Regression model using resampled data\n",
        "lr_model_1 = lr.fit(train_new)\n",
        "#Evaluate model.\n",
        "lr_pred = lr_model_1.transform(validation_df)\n",
        "print(evaluator.evaluate(lr_pred))"
      ],
      "execution_count": null,
      "outputs": []
    },
    {
      "cell_type": "code",
      "metadata": {
        "id": "H8AYeXTjmREF"
      },
      "source": [
        "#grid search of Logistic Regression\n",
        "if enable_grid_search:\n",
        "  lr_grid = ParamGridBuilder().addGrid(lr.regParam, [0.0, 0.02, 0.04, 0.06]).addGrid(lr.elasticNetParam, [0.0, 0.3, 0.6, 0.9]).build()\n",
        "  all_lr_models = []\n",
        "  for i in range(len(lr_grid)):\n",
        "    model = lr.fit(train_new, lr_grid[i])\n",
        "    all_lr_models.append(model)\n",
        "  lr_auc = []\n",
        "  for m in all_lr_models:\n",
        "    new_lr_model = m.transform(validation_df)\n",
        "    lr_auc.append(evaluator.evaluate(new_lr_model))\n",
        "  best_model_idx = np.argmax(lr_auc)\n",
        "  print(\"best model index =\", best_model_idx)\n",
        "  print(lr_grid[best_model_idx])\n",
        "  pass"
      ],
      "execution_count": null,
      "outputs": []
    },
    {
      "cell_type": "code",
      "metadata": {
        "id": "P17Aw-tmQvBs"
      },
      "source": [
        "#Logistic Regression best model\n",
        "optimal_lr = LogisticRegression().setLabelCol('Response').setFeaturesCol('features').setRegParam(0.0).setElasticNetParam(0.9)\n",
        "best_lr_model = optimal_lr.fit(train_new)\n",
        "best_lr_pred = best_lr_model.transform(validation_df)\n",
        "print(evaluator.evaluate(best_lr_pred))"
      ],
      "execution_count": null,
      "outputs": []
    },
    {
      "cell_type": "code",
      "metadata": {
        "id": "3iAc13n_RVoG"
      },
      "source": [
        "#check precision, recall and accuracy of the best model\n",
        "best_y_true_lr = best_lr_pred.select(['Response']).collect()\n",
        "best_y_pred_lr = best_lr_pred.select(['Prediction']).collect()\n",
        "\n",
        "print(classification_report(best_y_true_lr,best_y_pred_lr))"
      ],
      "execution_count": null,
      "outputs": []
    },
    {
      "cell_type": "code",
      "metadata": {
        "id": "PRN8M8rFPTfr"
      },
      "source": [
        "#get feature imporeance\n",
        "#LR model uses coefficients to meature feature importance\n",
        "lr_feature_importances = best_lr_model.coefficients\n",
        "lr_feature_imp_array = lr_feature_importances.toArray()\n",
        "print(lr_feature_imp_array)"
      ],
      "execution_count": null,
      "outputs": []
    },
    {
      "cell_type": "code",
      "metadata": {
        "id": "i0-HB-mpSwK3"
      },
      "source": [
        "#create a list of all feature names\n",
        "predictors = ['Age','Driving_License','Region_Code','Previously_Insured','Annual_Premium','Policy_Sales_Channel','Vintage',\n",
        "                                       'Gender_encoded','Vehicle_Age_encoded','Vehicle_Damage_encoded']\n",
        "\n",
        "#combine the feature name with its importance                                       \n",
        "lr_feats = {} # a dict to hold feature_name: feature_importance\n",
        "for feature, importance in zip(predictors, abs(lr_feature_imp_array)):\n",
        "    lr_feats[feature] = importance\n",
        "\n",
        "#get the feature importance plot\n",
        "lr_importances = pd.DataFrame.from_dict(lr_feats, orient='index').rename(columns={0: 'Gini-importance'})\n",
        "lr_importances.sort_values(by='Gini-importance').plot(kind='bar', rot=90, title='LR feature importance')"
      ],
      "execution_count": null,
      "outputs": []
    },
    {
      "cell_type": "markdown",
      "metadata": {
        "id": "tKK7ox5kmvn1"
      },
      "source": [
        "#### RF Undersampling"
      ]
    },
    {
      "cell_type": "code",
      "metadata": {
        "id": "0E9eodgfmzf7"
      },
      "source": [
        "#rerun the previous Random Forest model using resampled data\n",
        "rf_model_1 = rf.fit(train_new)\n",
        "#Evaluate model.\n",
        "rf_pred = rf_model_1.transform(validation_df)\n",
        "print(evaluator.evaluate(rf_pred))"
      ],
      "execution_count": null,
      "outputs": []
    },
    {
      "cell_type": "code",
      "metadata": {
        "id": "aT8SUvuKnKMa"
      },
      "source": [
        "#Random Forest grid search\n",
        "if enable_grid_search:\n",
        "  rf_grid = ParamGridBuilder().addGrid(rf.numTrees, [10, 30, 50, 80]).addGrid(rf.maxDepth, [5, 10, 15]).addGrid(rf.maxBins, [10, 20, 30]).build()\n",
        "  all_rf_models = []\n",
        "  for i in range(len(rf_grid)):\n",
        "    model = rf.fit(train_new, rf_grid[i])\n",
        "    all_rf_models.append(model)\n",
        "  rf_auc = []\n",
        "  for m in all_rf_models:\n",
        "    new_rf_model = m.transform(validation_df)\n",
        "    rf_auc.append(evaluator.evaluate(new_rf_model))\n",
        "  best_model_idx = np.argmax(rf_auc)\n",
        "  print(\"best model index =\", best_model_idx)\n",
        "  print(rf_grid[best_model_idx])\n",
        "  pass"
      ],
      "execution_count": null,
      "outputs": []
    },
    {
      "cell_type": "code",
      "metadata": {
        "id": "AUZntd2P8LPA"
      },
      "source": [
        "#optimal RF model\n",
        "num_trees = 80\n",
        "max_depth = 10\n",
        "max_bins = 30\n",
        "\n",
        "optimal_rf = RandomForestClassifier().setLabelCol('Response').setFeaturesCol('features').setNumTrees(num_trees).setMaxDepth(max_depth).setMaxBins(max_bins)\n",
        "best_rf_model = optimal_rf.fit(train_new)\n",
        "best_rf_pred = best_rf_model.transform(validation_df)\n",
        "print(evaluator.evaluate(best_rf_pred))"
      ],
      "execution_count": null,
      "outputs": []
    },
    {
      "cell_type": "code",
      "metadata": {
        "id": "gXeuKNCRDMje"
      },
      "source": [
        "#optimal RF model Precision, Recall, accuracy\n",
        "best_rf_y_true = best_rf_pred.select(['Response']).collect()\n",
        "best_rf_y_pred = best_rf_pred.select(['prediction']).collect()\n",
        "\n",
        "print(classification_report(best_rf_y_true, best_rf_y_pred))"
      ],
      "execution_count": null,
      "outputs": []
    },
    {
      "cell_type": "code",
      "metadata": {
        "id": "MCIIJpbVODCg"
      },
      "source": [
        "#get feature importance of the optimal RF model\n",
        "rf_feature_importances = best_rf_model.featureImportances\n",
        "rf_feature_imp_array = rf_feature_importances.toArray()\n",
        "print(rf_feature_imp_array)"
      ],
      "execution_count": null,
      "outputs": []
    },
    {
      "cell_type": "code",
      "metadata": {
        "id": "D1OCeh3qOTD0"
      },
      "source": [
        "#combine the feature name with its importance\n",
        "rf_feats = {} # a dict to hold feature_name: feature_importance\n",
        "for feature, importance in zip(predictors, rf_feature_imp_array):\n",
        "    rf_feats[feature] = importance\n",
        "\n",
        "#get the feature importance plot\n",
        "rf_importances = pd.DataFrame.from_dict(rf_feats, orient='index').rename(columns={0: 'Gini-importance'})\n",
        "rf_importances.sort_values(by='Gini-importance').plot(kind='bar', rot=90, title='RF feature importance')"
      ],
      "execution_count": null,
      "outputs": []
    },
    {
      "cell_type": "markdown",
      "metadata": {
        "id": "2bql1vV2n73C"
      },
      "source": [
        "#### GBT Undersampling"
      ]
    },
    {
      "cell_type": "code",
      "metadata": {
        "id": "5zoPm-M8n_Fr"
      },
      "source": [
        "#rerun the previous GBT model using resampled data\n",
        "gbt_model_1 = gbt.fit(train_new)\n",
        "gbt_pred = gbt_model_1.transform(validation_df)\n",
        "print(evaluator.evaluate(gbt_pred))"
      ],
      "execution_count": null,
      "outputs": []
    },
    {
      "cell_type": "code",
      "metadata": {
        "id": "6rHhw2ISoaK7"
      },
      "source": [
        "#GBT model grid search\n",
        "if enable_grid_search:\n",
        "  gbt_grid = ParamGridBuilder() \\\n",
        "    .addGrid(gbt.maxDepth, [int(x) for x in np.linspace(start = 2, stop = 10, num = 4)]) \\\n",
        "    .addGrid(gbt.maxBins, [int(x) for x in np.linspace(start = 10, stop = 50, num = 3)]) \\\n",
        "    .addGrid(gbt.maxIter, [int(x) for x in np.linspace(start = 5, stop = 15, num = 3)]) \\\n",
        "    .build()\n",
        "  all_gbt_models = []\n",
        "  for i in range(len(gbt_grid)):\n",
        "    model = gbt.fit(train_new, gbt_grid[i])\n",
        "    all_gbt_models.append(model)\n",
        "  gbt_auc = []\n",
        "  for m in all_gbt_models:\n",
        "    new_gbt_model = m.transform(validation_df)\n",
        "    gbt_auc.append(evaluator.evaluate(new_gbt_model))\n",
        "  best_model_idx = np.argmax(gbt_auc)\n",
        "  print(\"best model index =\", best_model_idx)\n",
        "  print(gbt_grid[best_model_idx])\n",
        "  pass"
      ],
      "execution_count": null,
      "outputs": []
    },
    {
      "cell_type": "code",
      "metadata": {
        "id": "QIwczKJ6ADBz"
      },
      "source": [
        "#optimal gbt model\n",
        "max_iter = 15\n",
        "gbt_max_depth = 7\n",
        "gbt_max_bins = 50\n",
        "\n",
        "optimal_gbt = GBTClassifier().setLabelCol('Response').setFeaturesCol('features').setMaxIter(max_iter).setMaxDepth(gbt_max_depth).setMaxBins(gbt_max_bins)\n",
        "best_gbt_model = optimal_gbt.fit(train_new)\n",
        "best_gbt_pred = best_gbt_model.transform(validation_df)\n",
        "print(evaluator.evaluate(best_gbt_pred))"
      ],
      "execution_count": null,
      "outputs": []
    },
    {
      "cell_type": "code",
      "metadata": {
        "id": "BGugNepMB5vH"
      },
      "source": [
        "#optimal GBDT model Recall, precision and accuracy\n",
        "best_gbt_y_true = best_gbt_pred.select(['Response']).collect()\n",
        "best_gbt_y_pred = best_gbt_pred.select(['prediction']).collect()\n",
        "\n",
        "print(classification_report(best_gbt_y_true, best_gbt_y_pred))"
      ],
      "execution_count": null,
      "outputs": []
    },
    {
      "cell_type": "code",
      "metadata": {
        "id": "-cSqky9OPh8e"
      },
      "source": [
        "#get feature importance of the optimal GBT model\n",
        "gbt_feature_importances = best_gbt_model.featureImportances\n",
        "gbt_feature_imp_array = gbt_feature_importances.toArray()\n",
        "print(gbt_feature_imp_array)"
      ],
      "execution_count": null,
      "outputs": []
    },
    {
      "cell_type": "code",
      "metadata": {
        "id": "LoPgKo1FPtoN"
      },
      "source": [
        "#combine the feature name with its importance\n",
        "gbt_feats = {} # a dict to hold feature_name: feature_importance\n",
        "for feature, importance in zip(predictors, gbt_feature_imp_array):\n",
        "    gbt_feats[feature] = importance\n",
        "\n",
        "#get the feature importance plot\n",
        "gbt_importances = pd.DataFrame.from_dict(gbt_feats, orient='index').rename(columns={0: 'Gini-importance'})\n",
        "gbt_importances.sort_values(by='Gini-importance').plot(kind='bar', rot=90, title='GBT feature importance')"
      ],
      "execution_count": null,
      "outputs": []
    },
    {
      "cell_type": "markdown",
      "metadata": {
        "id": "0kCbBwBL1WLH"
      },
      "source": [
        "### Appendix"
      ]
    },
    {
      "cell_type": "markdown",
      "metadata": {
        "id": "PV-VcgM44ADj"
      },
      "source": [
        "In order to resample our data, we also tried the other two approaches, which are Oversampling and the combination of Over&Under Sampling. But our models perform better by using the Undersampling technique. These are the related code of the other two resampling approaches:"
      ]
    },
    {
      "cell_type": "code",
      "metadata": {
        "id": "Q9-ByZGC1Y8t"
      },
      "source": [
        "#Oversampling\n",
        "#SMOTE\n",
        "#sm = SMOTE(random_state=0)\n",
        "#X_train_res, y_train_res = sm.fit_resample(X_train, y_train)\n",
        "\n",
        "#Random over sampler\n",
        "#ros=RandomOverSampler(random_state=0)\n",
        "#X_train_res, y_train_res = ros.fit_resample(X_train, y_train)\n",
        "\n",
        "#ADASYN\n",
        "#ada=ADASYN(random_state=0)\n",
        "#X_resampled, y_resampled = ADASYN().fit_resample(X_train, y_train)\n",
        "\n",
        "#print('Over sampled dataset shape：{}'.format(Counter(y_train_res)))\n",
        "#clf_rf = RandomForestClassifier(n_estimators=25, random_state=12)\n",
        "#clf_rf.fit(x_train_res, y_train_res)\n",
        "#y_train_res.shape"
      ],
      "execution_count": null,
      "outputs": []
    },
    {
      "cell_type": "code",
      "metadata": {
        "id": "tX2lbdy94CsH"
      },
      "source": [
        "#Over&Under Sampling\n",
        "#from imblearn.combine import SMOTETomek, SMOTEENN\n",
        "#import imblearn.under_sampling\n",
        "\n",
        "#SMOTEENN tends to clean more noisy samples than SMOTETomek.\n",
        "\n",
        "#resample1 = SMOTEENN(random_state=42)\n",
        "\n",
        "#train_df_res = train_df.drop('features')\n",
        "\n",
        "#X = np.array(train_df_res.select('Age','Driving_License','Region_Code','Previously_Insured','Annual_Premium','Policy_Sales_Channel','Vintage','Gender_encoded','Vehicle_Age_encoded','Vehicle_Damage_encoded').collect())\n",
        "#Y = np.array(train_df_res.select('Response').collect())\n",
        "\n",
        "#X_res, Y_res = resample1.fit_resample(X,Y)"
      ],
      "execution_count": null,
      "outputs": []
    },
    {
      "cell_type": "code",
      "metadata": {
        "id": "ozSn2BgX4n93"
      },
      "source": [
        "#resample2 = SMOTETomek(random_state=42)\n",
        "#X_res1, Y_res1 = resample2.fit_resample(X,Y)\n",
        "\n",
        "#unique, counts = np.unique(Y_res1, return_counts=True)\n",
        "#print(np.asarray((unique, counts)).T)"
      ],
      "execution_count": null,
      "outputs": []
    },
    {
      "cell_type": "code",
      "metadata": {
        "id": "VJJ6yW7A4pCJ"
      },
      "source": [
        "#train_res = pd.DataFrame(data=X_res1, columns=['Age','Driving_License','Region_Code','Previously_Insured','Annual_Premium','Policy_Sales_Channel','Vintage','Gender_encoded','Vehicle_Age_encoded','Vehicle_Damage_encoded'])\n",
        "#train_res['Response'] = Y_res1\n",
        "#train_res = spark.createDataFrame(train_res)"
      ],
      "execution_count": null,
      "outputs": []
    }
  ]
}